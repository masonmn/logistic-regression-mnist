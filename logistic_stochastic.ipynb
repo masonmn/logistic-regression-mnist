{
 "cells": [
  {
   "cell_type": "markdown",
   "metadata": {},
   "source": [
    "# Logistic Regression\n",
    "\n",
    "In this exercise you will implement the logistic regression algorithm and use your code to learn to classify images of digits from the MNIST dataset. The MNIST database is a large database of handwritten digits that is commonly used for training and testing in the field of machine learning. Here are some sample images from the dataset:"
   ]
  },
  {
   "cell_type": "markdown",
   "metadata": {},
   "source": [
    "<img src=\"mnist_sample.png\", height=\"200\" width=\"200\">"
   ]
  },
  {
   "cell_type": "markdown",
   "metadata": {},
   "source": [
    "## Task 1: Load the Data\n",
    "\n",
    "Using the np.loadtxt() function, import all the data."
   ]
  },
  {
   "cell_type": "code",
   "execution_count": 1,
   "metadata": {},
   "outputs": [],
   "source": [
    "import numpy as np\n",
    "import math\n",
    "\n",
    "\"\"\"\n",
    "    For digits 5 vs. 8, use the datasets starts with 58***.gz\n",
    "\"\"\"\n",
    "\n",
    "training_images = np.loadtxt(\"01Train_Images.gz\")\n",
    "labels = np.loadtxt(\"01Train_Labels.gz\")\n",
    "test_images = np.loadtxt(\"01Test_Images.gz\")\n",
    "test_labels = np.loadtxt(\"01Test_Labels.gz\")"
   ]
  },
  {
   "cell_type": "markdown",
   "metadata": {},
   "source": [
    "## Initialization"
   ]
  },
  {
   "cell_type": "code",
   "execution_count": 2,
   "metadata": {},
   "outputs": [],
   "source": [
    "\"\"\"\n",
    "Initialize w and b using a normal distribution N ~ (0, 0.1).\n",
    "Note: we do not pre-pend 1 in our data. b represent w0 in our slides.\n",
    "Set Learning rate L = 0.01.\n",
    "Set numImages, numTestingImages to the number of training and test images respectively.\n",
    "\n",
    "Initialized variables are global.\n",
    "\"\"\"\n",
    "w = np.random.normal(0, math.sqrt(0.1), training_images.shape[1])\n",
    "b = np.random.normal(0, math.sqrt(0.1), 1)\n",
    "L = 0.01\n",
    "numImages = training_images.shape[0]\n",
    "numTestingImages = test_images.shape[0]"
   ]
  },
  {
   "cell_type": "code",
   "execution_count": 3,
   "metadata": {},
   "outputs": [],
   "source": [
    "def sigmoid(v):\n",
    "    return 1 / (1 + np.exp(-v))"
   ]
  },
  {
   "cell_type": "markdown",
   "metadata": {},
   "source": [
    "## Softmax\n",
    "Implement the softmax activation function below. "
   ]
  },
  {
   "cell_type": "code",
   "execution_count": 4,
   "metadata": {},
   "outputs": [],
   "source": [
    "def softmax(v):\n",
    "    \"\"\"Returns the softmax of a vector v\n",
    "    \n",
    "    Input:\n",
    "    - v: a vector that needs to be normalized\n",
    "    \n",
    "    Output:\n",
    "    A vector whose entries have been normalized according to the softmax activation function.\n",
    "    \"\"\"\n",
    "    e_v = np.exp(v - np.max(v))\n",
    "    return e_v / e_v.sum(axis=0)\n"
   ]
  },
  {
   "cell_type": "markdown",
   "metadata": {},
   "source": [
    "## Stochastic Gradient Descent\n",
    "Write a procedure that updates w and b with a gradient descent step."
   ]
  },
  {
   "cell_type": "code",
   "execution_count": 5,
   "metadata": {},
   "outputs": [],
   "source": [
    "def train_example(imag, label, w, b):\n",
    "    \"\"\"Updates the parameters w and b according to the gradient descent algorithm in our slides\n",
    "       Note: b is w0 in our slides\n",
    "    \n",
    "    Inputs:\n",
    "    - imag: An image in the form of a (1 x 784) list of normalized pixel values\n",
    "    - label: A one-hot vector corresponding to the correct answer ([0,1] for one class and [1,0] for the other)\n",
    "    \n",
    "    Output:\n",
    "    None\n",
    "    \"\"\"\n",
    "    binary_label = label[1]\n",
    "    posteriori = sigmoid(np.dot(imag, w) +b)\n",
    "    b -= (posteriori - binary_label)/numImages\n",
    "    gradient = imag*(posteriori - binary_label)\n",
    "    w -= L*gradient\n",
    "\n"
   ]
  },
  {
   "cell_type": "markdown",
   "metadata": {},
   "source": [
    "### Prediction\n",
    "We will now write a function that returns True if our network produced a correct answer, and false otherwise:"
   ]
  },
  {
   "cell_type": "code",
   "execution_count": 6,
   "metadata": {},
   "outputs": [],
   "source": [
    "def predict(imag, label):\n",
    "    \"\"\"Returns True if our model predicts the correct answer\n",
    "    \n",
    "    Inputs:\n",
    "    - imag: An image in the form of a (1 x 784) list of pixel values\n",
    "    - label: A one-hot vector corresponding to the correct answer ([0,1] for one class and [1,0] for the other)\n",
    "    \n",
    "    Outputs:\n",
    "    A boolean representing whether the network succesfully predicted the correct class.\n",
    "    \"\"\"\n",
    "    posteriori = sigmoid(np.dot(imag, w))\n",
    "    if posteriori >= 0.5:\n",
    "        if label[1] == 1:\n",
    "            return True\n",
    "        else:\n",
    "            return False\n",
    "    else:\n",
    "        if label[1] == 1:\n",
    "            return False\n",
    "        else:\n",
    "            return True"
   ]
  },
  {
   "cell_type": "markdown",
   "metadata": {},
   "source": [
    "## Training the Network and Testing our Results\n",
    "Now that we have all these functions at our disposal, let's train our network and see how it does!"
   ]
  },
  {
   "cell_type": "code",
   "execution_count": 7,
   "metadata": {},
   "outputs": [
    {
     "name": "stdout",
     "output_type": "stream",
     "text": [
      "Training Accuracy: 0.9979456384323641\n",
      "Testing Accuracy: 0.9990543735224586\n"
     ]
    }
   ],
   "source": [
    "# Training the network\n",
    "for i in range(numImages):\n",
    "    train_example(training_images[i], labels[i], w, b)\n",
    "\n",
    "correct = 0  # Number of correct predictions the network makes\n",
    "\n",
    "# Test Accuracy\n",
    "for i in range(numTestingImages):\n",
    "    if predict(test_images[i], test_labels[i]):\n",
    "        correct += 1\n",
    "\n",
    "# Train Accuracy\n",
    "train_correct = 0\n",
    "for i in range(numImages):\n",
    "    if predict(training_images[i], labels[i]):\n",
    "        train_correct += 1\n",
    "\n",
    "print (\"Training Accuracy: \" + str(float(train_correct) / len(training_images)))\n",
    "print (\"Testing Accuracy: \" + str(float(correct) / len(test_images)))\n"
   ]
  },
  {
   "cell_type": "markdown",
   "metadata": {},
   "source": [
    "Now try the same with the other data. Notice how the network performs much better when asked to classify 1s and 0s compared to the task of classifying 8s and 5s. Later we will find a way to improve our performance with 8s and 5s using tensorflow."
   ]
  },
  {
   "cell_type": "markdown",
   "metadata": {},
   "source": [
    " "
   ]
  }
 ],
 "metadata": {
  "kernelspec": {
   "display_name": "Python 3",
   "language": "python",
   "name": "python3"
  },
  "language_info": {
   "codemirror_mode": {
    "name": "ipython",
    "version": 3
   },
   "file_extension": ".py",
   "mimetype": "text/x-python",
   "name": "python",
   "nbconvert_exporter": "python",
   "pygments_lexer": "ipython3",
   "version": "3.8.5"
  }
 },
 "nbformat": 4,
 "nbformat_minor": 4
}
